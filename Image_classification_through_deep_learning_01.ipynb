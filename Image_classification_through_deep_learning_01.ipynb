{
 "cells": [
  {
   "cell_type": "markdown",
   "id": "311c6c4b",
   "metadata": {},
   "source": [
    "# Aim of this code  is to classification of images"
   ]
  },
  {
   "cell_type": "code",
   "execution_count": 1,
   "id": "52d190c9",
   "metadata": {},
   "outputs": [],
   "source": [
    "import tensorflow as tf\n",
    "from tensorflow import keras\n",
    "import matplotlib.pyplot as plt\n",
    "import numpy as np"
   ]
  },
  {
   "cell_type": "markdown",
   "id": "710e2a09",
   "metadata": {},
   "source": [
    "# below line will tell You that Your Computer has GPU or not\n",
    "# if it has GPU then u have to install Cuda Toolkit and CuDNN"
   ]
  },
  {
   "cell_type": "code",
   "execution_count": 2,
   "id": "4289fe77",
   "metadata": {},
   "outputs": [
    {
     "data": {
      "text/plain": [
       "[PhysicalDevice(name='/physical_device:CPU:0', device_type='CPU')]"
      ]
     },
     "execution_count": 2,
     "metadata": {},
     "output_type": "execute_result"
    }
   ],
   "source": [
    "tf.config.experimental.list_physical_devices()  "
   ]
  },
  {
   "cell_type": "markdown",
   "id": "e772484f",
   "metadata": {},
   "source": [
    "# tensor flow is built with Cuda that is showing True"
   ]
  },
  {
   "cell_type": "code",
   "execution_count": 3,
   "id": "4bdb1658",
   "metadata": {},
   "outputs": [
    {
     "data": {
      "text/plain": [
       "True"
      ]
     },
     "execution_count": 3,
     "metadata": {},
     "output_type": "execute_result"
    }
   ],
   "source": [
    "tf.test.is_built_with_cuda()"
   ]
  },
  {
   "cell_type": "markdown",
   "id": "6ce087cb",
   "metadata": {},
   "source": [
    "# load the Datasets from keras  of CIFAR10"
   ]
  },
  {
   "cell_type": "markdown",
   "id": "5683099c",
   "metadata": {},
   "source": [
    "# CIFAR-10 dataset consists of 60000 32*32  colour images in 10 classes"
   ]
  },
  {
   "cell_type": "code",
   "execution_count": 4,
   "id": "a44001f5",
   "metadata": {},
   "outputs": [],
   "source": [
    "(x_train,y_train),(x_test,y_test) = tf.keras.datasets.cifar10.load_data()"
   ]
  },
  {
   "cell_type": "markdown",
   "id": "fb04cf39",
   "metadata": {},
   "source": [
    "\n",
    "# here classes are:\n",
    "\n",
    "# Label\tDescription\n",
    "# 0\tairplane\n",
    "# 1\tautomobile\n",
    "# 2\tbird\n",
    "# 3\tcat\n",
    "# 4\tdeer\n",
    "# 5\tdog\n",
    "# 6\tfrog\n",
    "# 7\thorse\n",
    "# 8\tship\n",
    "# 9\ttruck\n"
   ]
  },
  {
   "cell_type": "code",
   "execution_count": 20,
   "id": "9e1f4e9c",
   "metadata": {},
   "outputs": [
    {
     "data": {
      "text/plain": [
       "(50000, 1)"
      ]
     },
     "execution_count": 20,
     "metadata": {},
     "output_type": "execute_result"
    }
   ],
   "source": [
    "y_train.shape # 50000 train sample"
   ]
  },
  {
   "cell_type": "code",
   "execution_count": 21,
   "id": "ce6c296f",
   "metadata": {},
   "outputs": [
    {
     "data": {
      "text/plain": [
       "(50000, 32, 32, 3)"
      ]
     },
     "execution_count": 21,
     "metadata": {},
     "output_type": "execute_result"
    }
   ],
   "source": [
    "x_train.shape # x and y demension are 32 ,32  third demension is RGb color"
   ]
  },
  {
   "cell_type": "code",
   "execution_count": 7,
   "id": "0ff596d7",
   "metadata": {},
   "outputs": [
    {
     "data": {
      "text/plain": [
       "array([[6],\n",
       "       [9],\n",
       "       [9],\n",
       "       [4],\n",
       "       [1]], dtype=uint8)"
      ]
     },
     "execution_count": 7,
     "metadata": {},
     "output_type": "execute_result"
    }
   ],
   "source": [
    "y_train[0:5]"
   ]
  },
  {
   "cell_type": "code",
   "execution_count": 22,
   "id": "ec508f54",
   "metadata": {},
   "outputs": [],
   "source": [
    "def plot_sample(index):\n",
    "    plt.figure(figsize=(10,1))\n",
    "    plt.imshow(x_train[index]) # imshow is image show function"
   ]
  },
  {
   "cell_type": "code",
   "execution_count": 9,
   "id": "482c9778",
   "metadata": {},
   "outputs": [
    {
     "data": {
      "image/png": "[encoded data removed]",
      "text/plain": [
       "<Figure size 720x72 with 1 Axes>"
      ]
     },
     "metadata": {
      "needs_background": "light"
     },
     "output_type": "display_data"
    }
   ],
   "source": [
    "plot_sample(1)"
   ]
  },
  {
   "cell_type": "code",
   "execution_count": 10,
   "id": "718152a1",
   "metadata": {},
   "outputs": [],
   "source": [
    "label = [\"airplane\",\"autoplane\",\"bird\",\"cat\",\"deer\",\"dog\",\"frog\",\"horse\",\"ship\",\"truck\"]"
   ]
  },
  {
   "cell_type": "code",
   "execution_count": 11,
   "id": "4dafdc77",
   "metadata": {},
   "outputs": [
    {
     "data": {
      "text/plain": [
       "array([1], dtype=uint8)"
      ]
     },
     "execution_count": 11,
     "metadata": {},
     "output_type": "execute_result"
    }
   ],
   "source": [
    "y_train[4]"
   ]
  },
  {
   "cell_type": "code",
   "execution_count": 12,
   "id": "6339e084",
   "metadata": {},
   "outputs": [
    {
     "data": {
      "text/plain": [
       "'autoplane'"
      ]
     },
     "execution_count": 12,
     "metadata": {},
     "output_type": "execute_result"
    }
   ],
   "source": [
    "label[y_train[4][0]]"
   ]
  },
  {
   "cell_type": "markdown",
   "id": "be190db6",
   "metadata": {},
   "source": [
    "# normalizing the image between RANGE 0 and 1 \n",
    "# It help to train your deep learning model"
   ]
  },
  {
   "cell_type": "code",
   "execution_count": 13,
   "id": "b04528c9",
   "metadata": {},
   "outputs": [],
   "source": [
    "x_train_scaled = x_train/255\n",
    "x_test_scaled = x_test/255"
   ]
  },
  {
   "cell_type": "code",
   "execution_count": 14,
   "id": "c9a1a251",
   "metadata": {},
   "outputs": [
    {
     "data": {
      "text/plain": [
       "(50000, 32, 32, 3)"
      ]
     },
     "execution_count": 14,
     "metadata": {},
     "output_type": "execute_result"
    }
   ],
   "source": [
    "x_train_scaled.shape # shape remain same"
   ]
  },
  {
   "cell_type": "markdown",
   "id": "5448844a",
   "metadata": {},
   "source": [
    "# Now   we will do one-hot encode with keras API\n"
   ]
  },
  {
   "cell_type": "code",
   "execution_count": 15,
   "id": "4df1a2d4",
   "metadata": {},
   "outputs": [
    {
     "data": {
      "text/plain": [
       "array([[0., 0., 0., 0., 0., 0., 1., 0., 0., 0.],\n",
       "       [0., 0., 0., 0., 0., 0., 0., 0., 0., 1.],\n",
       "       [0., 0., 0., 0., 0., 0., 0., 0., 0., 1.],\n",
       "       [0., 0., 0., 0., 1., 0., 0., 0., 0., 0.],\n",
       "       [0., 1., 0., 0., 0., 0., 0., 0., 0., 0.]], dtype=float32)"
      ]
     },
     "execution_count": 15,
     "metadata": {},
     "output_type": "execute_result"
    }
   ],
   "source": [
    "y_train_categorical = keras.utils.to_categorical(\n",
    "y_train,num_classes=10,dtype = \"float32\"\n",
    ")\n",
    "y_train_categorical[:5]\n"
   ]
  },
  {
   "cell_type": "code",
   "execution_count": 16,
   "id": "449df425",
   "metadata": {},
   "outputs": [
    {
     "data": {
      "text/plain": [
       "array([[0., 0., 0., 1., 0., 0., 0., 0., 0., 0.],\n",
       "       [0., 0., 0., 0., 0., 0., 0., 0., 1., 0.],\n",
       "       [0., 0., 0., 0., 0., 0., 0., 0., 1., 0.],\n",
       "       [1., 0., 0., 0., 0., 0., 0., 0., 0., 0.],\n",
       "       [0., 0., 0., 0., 0., 0., 1., 0., 0., 0.]], dtype=float32)"
      ]
     },
     "execution_count": 16,
     "metadata": {},
     "output_type": "execute_result"
    }
   ],
   "source": [
    "y_test_categorical = keras.utils.to_categorical(\n",
    "y_test,num_classes=10,dtype = \"float32\"\n",
    ")\n",
    "y_test_categorical[:5]"
   ]
  },
  {
   "cell_type": "code",
   "execution_count": 17,
   "id": "ebc62321",
   "metadata": {},
   "outputs": [],
   "source": [
    "model = keras.Sequential([\n",
    "    keras.layers.Flatten(input_shape = (32,32,3)), # this flatten layer will be flatten into 3072 of size\n",
    "    keras.layers.Dense(3000,activation=\"relu\"), # hidden layer\n",
    "    keras.layers.Dense(3000,activation=\"relu\"), # hidden layer \n",
    "    keras.layers.Dense(10,activation=\"sigmoid\")\n",
    "])"
   ]
  },
  {
   "cell_type": "code",
   "execution_count": 18,
   "id": "374165cd",
   "metadata": {},
   "outputs": [],
   "source": [
    "model.compile(optimizer=\"adam\",\n",
    "             loss = \"categorical_crossentropy\",\n",
    "             metrics = [\"accuracy\"])"
   ]
  },
  {
   "cell_type": "code",
   "execution_count": 19,
   "id": "e3b6e6d4",
   "metadata": {},
   "outputs": [
    {
     "name": "stdout",
     "output_type": "stream",
     "text": [
      "Epoch 1/50\n",
      "1563/1563 [==============================] - 100s 61ms/step - loss: 1.8864 - accuracy: 0.3280\n",
      "Epoch 2/50\n",
      "1563/1563 [==============================] - 99s 63ms/step - loss: 1.6610 - accuracy: 0.4026\n",
      "Epoch 3/50\n",
      "1563/1563 [==============================] - 100s 64ms/step - loss: 1.5819 - accuracy: 0.4325\n",
      "Epoch 4/50\n",
      "1563/1563 [==============================] - 105s 67ms/step - loss: 1.5322 - accuracy: 0.4506\n",
      "Epoch 5/50\n",
      "1563/1563 [==============================] - 103s 66ms/step - loss: 1.4936 - accuracy: 0.4658\n",
      "Epoch 6/50\n",
      "1563/1563 [==============================] - 100s 64ms/step - loss: 1.4628 - accuracy: 0.4770\n",
      "Epoch 7/50\n",
      "1563/1563 [==============================] - 100s 64ms/step - loss: 1.4312 - accuracy: 0.4872\n",
      "Epoch 8/50\n",
      "1563/1563 [==============================] - 100s 64ms/step - loss: 1.4067 - accuracy: 0.4969\n",
      "Epoch 9/50\n",
      "1563/1563 [==============================] - 98s 62ms/step - loss: 1.3878 - accuracy: 0.5036\n",
      "Epoch 10/50\n",
      "1563/1563 [==============================] - 99s 63ms/step - loss: 1.3656 - accuracy: 0.5113\n",
      "Epoch 11/50\n",
      "1563/1563 [==============================] - 99s 63ms/step - loss: 1.3489 - accuracy: 0.5169\n",
      "Epoch 12/50\n",
      "1563/1563 [==============================] - 100s 64ms/step - loss: 1.3304 - accuracy: 0.5252\n",
      "Epoch 13/50\n",
      "1563/1563 [==============================] - 100s 64ms/step - loss: 1.3141 - accuracy: 0.5295\n",
      "Epoch 14/50\n",
      "1563/1563 [==============================] - 99s 64ms/step - loss: 1.3005 - accuracy: 0.5351\n",
      "Epoch 15/50\n",
      "1563/1563 [==============================] - 98s 62ms/step - loss: 1.2846 - accuracy: 0.5416\n",
      "Epoch 16/50\n",
      "1563/1563 [==============================] - 97s 62ms/step - loss: 1.2739 - accuracy: 0.5414\n",
      "Epoch 17/50\n",
      "1563/1563 [==============================] - 99s 63ms/step - loss: 1.2607 - accuracy: 0.5460\n",
      "Epoch 18/50\n",
      "1563/1563 [==============================] - 98s 63ms/step - loss: 1.2451 - accuracy: 0.5561\n",
      "Epoch 19/50\n",
      "1563/1563 [==============================] - 97s 62ms/step - loss: 1.2366 - accuracy: 0.5534\n",
      "Epoch 20/50\n",
      "1563/1563 [==============================] - 98s 63ms/step - loss: 1.2198 - accuracy: 0.5631\n",
      "Epoch 21/50\n",
      "1563/1563 [==============================] - 100s 64ms/step - loss: 1.2165 - accuracy: 0.5645\n",
      "Epoch 22/50\n",
      "1563/1563 [==============================] - 98s 63ms/step - loss: 1.2028 - accuracy: 0.5664\n",
      "Epoch 23/50\n",
      "1563/1563 [==============================] - 99s 63ms/step - loss: 1.1945 - accuracy: 0.5707\n",
      "Epoch 24/50\n",
      "1563/1563 [==============================] - 99s 63ms/step - loss: 1.1765 - accuracy: 0.5775\n",
      "Epoch 25/50\n",
      "1563/1563 [==============================] - 98s 62ms/step - loss: 1.1712 - accuracy: 0.5787\n",
      "Epoch 26/50\n",
      "1563/1563 [==============================] - 98s 63ms/step - loss: 1.1632 - accuracy: 0.5811\n",
      "Epoch 27/50\n",
      "1563/1563 [==============================] - 99s 64ms/step - loss: 1.1565 - accuracy: 0.5860\n",
      "Epoch 28/50\n",
      "1563/1563 [==============================] - 99s 64ms/step - loss: 1.1468 - accuracy: 0.5869\n",
      "Epoch 29/50\n",
      "1563/1563 [==============================] - 99s 63ms/step - loss: 1.1396 - accuracy: 0.5915\n",
      "Epoch 30/50\n",
      "1563/1563 [==============================] - 99s 64ms/step - loss: 1.1238 - accuracy: 0.59450s - loss: 1.1237 - ac\n",
      "Epoch 31/50\n",
      "1563/1563 [==============================] - 99s 63ms/step - loss: 1.1210 - accuracy: 0.5971\n",
      "Epoch 32/50\n",
      "1563/1563 [==============================] - 92s 59ms/step - loss: 1.1153 - accuracy: 0.6002\n",
      "Epoch 33/50\n",
      "1563/1563 [==============================] - 84s 54ms/step - loss: 1.1055 - accuracy: 0.6017\n",
      "Epoch 34/50\n",
      "1563/1563 [==============================] - 81s 52ms/step - loss: 1.0929 - accuracy: 0.6059\n",
      "Epoch 35/50\n",
      "1563/1563 [==============================] - 81s 52ms/step - loss: 1.0863 - accuracy: 0.6094\n",
      "Epoch 36/50\n",
      "1563/1563 [==============================] - 90s 57ms/step - loss: 1.0799 - accuracy: 0.6111\n",
      "Epoch 37/50\n",
      "1563/1563 [==============================] - 91s 58ms/step - loss: 1.0774 - accuracy: 0.6108\n",
      "Epoch 38/50\n",
      "1563/1563 [==============================] - 96s 62ms/step - loss: 1.0662 - accuracy: 0.6170\n",
      "Epoch 39/50\n",
      "1563/1563 [==============================] - 93s 59ms/step - loss: 1.0587 - accuracy: 0.6196\n",
      "Epoch 40/50\n",
      "1563/1563 [==============================] - 93s 59ms/step - loss: 1.0580 - accuracy: 0.6197\n",
      "Epoch 41/50\n",
      "1563/1563 [==============================] - 90s 57ms/step - loss: 1.0473 - accuracy: 0.6233\n",
      "Epoch 42/50\n",
      "1563/1563 [==============================] - 88s 56ms/step - loss: 1.0515 - accuracy: 0.6229\n",
      "Epoch 43/50\n",
      "1563/1563 [==============================] - 89s 57ms/step - loss: 1.0392 - accuracy: 0.6284\n",
      "Epoch 44/50\n",
      "1563/1563 [==============================] - 102s 65ms/step - loss: 1.0346 - accuracy: 0.6285\n",
      "Epoch 45/50\n",
      "1563/1563 [==============================] - 97s 62ms/step - loss: 1.0278 - accuracy: 0.6314\n",
      "Epoch 46/50\n",
      "1563/1563 [==============================] - 102s 65ms/step - loss: 1.0162 - accuracy: 0.6352\n",
      "Epoch 47/50\n",
      "1563/1563 [==============================] - 100s 64ms/step - loss: 1.0169 - accuracy: 0.6358\n",
      "Epoch 48/50\n",
      "1563/1563 [==============================] - 98s 63ms/step - loss: 1.0102 - accuracy: 0.6361\n",
      "Epoch 49/50\n",
      "1563/1563 [==============================] - 97s 62ms/step - loss: 1.0029 - accuracy: 0.6402\n",
      "Epoch 50/50\n",
      "1563/1563 [==============================] - 96s 61ms/step - loss: 1.0000 - accuracy: 0.6389\n"
     ]
    },
    {
     "data": {
      "text/plain": [
       "<keras.callbacks.History at 0x1ad29caaf70>"
      ]
     },
     "execution_count": 19,
     "metadata": {},
     "output_type": "execute_result"
    }
   ],
   "source": [
    "model.fit(x_train_scaled,y_train_categorical,epochs=50)"
   ]
  },
  {
   "cell_type": "markdown",
   "id": "5be7e76f",
   "metadata": {},
   "source": [
    "#  now someprediction"
   ]
  },
  {
   "cell_type": "code",
   "execution_count": 23,
   "id": "b0604f95",
   "metadata": {},
   "outputs": [
    {
     "data": {
      "text/plain": [
       "array([0.02785456, 0.00291809, 0.02669382, 0.31645632, 0.0181731 ,\n",
       "       0.0288206 , 0.00866875, 0.00233755, 0.09068534, 0.00347129],\n",
       "      dtype=float32)"
      ]
     },
     "execution_count": 23,
     "metadata": {},
     "output_type": "execute_result"
    }
   ],
   "source": [
    "model.predict(x_test_scaled)[0] # here we have ten classes you got the Probability of the classes"
   ]
  },
  {
   "cell_type": "markdown",
   "id": "1b0b4680",
   "metadata": {},
   "source": [
    "# now You want index of maximun number so You can use np.argmax function of numpy"
   ]
  },
  {
   "cell_type": "code",
   "execution_count": 26,
   "id": "e77453c8",
   "metadata": {},
   "outputs": [
    {
     "data": {
      "text/plain": [
       "'cat'"
      ]
     },
     "execution_count": 26,
     "metadata": {},
     "output_type": "execute_result"
    }
   ],
   "source": [
    "label[np.argmax(model.predict(x_test_scaled)[0])]"
   ]
  },
  {
   "cell_type": "code",
   "execution_count": 28,
   "id": "5ff9b974",
   "metadata": {},
   "outputs": [
    {
     "data": {
      "text/plain": [
       "'cat'"
      ]
     },
     "execution_count": 28,
     "metadata": {},
     "output_type": "execute_result"
    }
   ],
   "source": [
    "label[y_test[0][0]]"
   ]
  },
  {
   "cell_type": "code",
   "execution_count": null,
   "id": "0246e624",
   "metadata": {},
   "outputs": [],
   "source": []
  }
 ],
 "metadata": {
  "kernelspec": {
   "display_name": "Python 3 (ipykernel)",
   "language": "python",
   "name": "python3"
  },
  "language_info": {
   "codemirror_mode": {
    "name": "ipython",
    "version": 3
   },
   "file_extension": ".py",
   "mimetype": "text/x-python",
   "name": "python",
   "nbconvert_exporter": "python",
   "pygments_lexer": "ipython3",
   "version": "3.9.6"
  }
 },
 "nbformat": 4,
 "nbformat_minor": 5
}
